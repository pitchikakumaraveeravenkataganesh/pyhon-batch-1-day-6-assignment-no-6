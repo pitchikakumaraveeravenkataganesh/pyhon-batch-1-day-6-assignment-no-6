{
  "nbformat": 4,
  "nbformat_minor": 0,
  "metadata": {
    "colab": {
      "name": "pyhon day 6 assignment no 6.ipynb",
      "provenance": [],
      "collapsed_sections": [],
      "authorship_tag": "ABX9TyPjpQyHoBweQiiRnTf8P+a5",
      "include_colab_link": true
    },
    "kernelspec": {
      "name": "python3",
      "display_name": "Python 3"
    },
    "language_info": {
      "name": "python"
    }
  },
  "cells": [
    {
      "cell_type": "markdown",
      "metadata": {
        "id": "view-in-github",
        "colab_type": "text"
      },
      "source": [
        "<a href=\"https://colab.research.google.com/github/pitchikakumaraveeravenkataganesh/pyhon-batch-1-day-6-assignment-no-6/blob/main/pyhon_day_6_assignment_no_6.ipynb\" target=\"_parent\"><img src=\"https://colab.research.google.com/assets/colab-badge.svg\" alt=\"Open In Colab\"/></a>"
      ]
    },
    {
      "cell_type": "code",
      "metadata": {
        "colab": {
          "base_uri": "https://localhost:8080/"
        },
        "id": "QkE_CfTlenIg",
        "outputId": "264c414c-ce00-4122-afc4-cfbb6fa7de82"
      },
      "source": [
        "import requests\n",
        "# paste your api key here\n",
        "api_key = \"4256b3de394a56a86ee35e43af6f5c2e\"\n",
        "# getting city name from user\n",
        "city = input(\"Enter city name: \")\n",
        "\"\"\"\n",
        "we appending the city valirable and api_key variable to complete the url. for example city name is Mumbai  then url looks like \n",
        "https://api.openweathermap.org/data/2.5/weather?q=Mumbai&units=metric&APPID=4256b3de394a56a86ee35e43af6f5c2e\n",
        "\"\"\"\n",
        "data = requests.get(\n",
        "    f\"https://api.openweathermap.org/data/2.5/weather?q={city}&units=metric&APPID={api_key}\"\n",
        ")\n",
        "# uncomment the following line and run it so you can get the data in json format\n",
        "# print(data.json())\n",
        "# getting the data\n",
        "print(f\"Location: {data.json().get('name')}, {data.json().get('sys').get('country')}\")\n",
        "print(f\"Temperature: {data.json().get('main')['temp']}°C\")\n",
        "print(f\"Weather: {data.json().get('weather')[0].get('main')}\")\n",
        "print(\n",
        "    f\"Min/Max Temperature: {data.json().get('main')['temp_min']}°C/{data.json().get('main')['temp_max']}°C\"\n",
        ")\n",
        "print(f\"Humidity: {data.json().get('main')['humidity']}%\")\n",
        "print(f\"Wind: {data.json().get('wind')['speed']} km/h\")\n",
        "\n"
      ],
      "execution_count": 1,
      "outputs": [
        {
          "output_type": "stream",
          "text": [
            "Enter city name: mumbai\n",
            "Location: Mumbai, IN\n",
            "Temperature: 26.99°C\n",
            "Weather: Haze\n",
            "Min/Max Temperature: 26.94°C/26.99°C\n",
            "Humidity: 89%\n",
            "Wind: 2.06 km/h\n"
          ],
          "name": "stdout"
        }
      ]
    }
  ]
}